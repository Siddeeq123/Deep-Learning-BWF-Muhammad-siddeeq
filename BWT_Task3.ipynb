{
  "nbformat": 4,
  "nbformat_minor": 0,
  "metadata": {
    "colab": {
      "provenance": []
    },
    "kernelspec": {
      "name": "python3",
      "display_name": "Python 3"
    },
    "language_info": {
      "name": "python"
    }
  },
  "cells": [
    {
      "cell_type": "code",
      "execution_count": 1,
      "metadata": {
        "id": "KdqLIAYWM1A_",
        "colab": {
          "base_uri": "https://localhost:8080/"
        },
        "outputId": "cf26ff15-34a5-44c6-ebc4-c2f71973c8ff"
      },
      "outputs": [
        {
          "output_type": "stream",
          "name": "stdout",
          "text": [
            "hellow world\n"
          ]
        }
      ],
      "source": [
        "print(\"hellow world\")"
      ]
    },
    {
      "cell_type": "code",
      "source": [
        "a=10\n",
        "print(a)"
      ],
      "metadata": {
        "colab": {
          "base_uri": "https://localhost:8080/"
        },
        "id": "5veZvaz3NNsb",
        "outputId": "326de058-b1dc-43fb-8150-2c9ad2a45de2"
      },
      "execution_count": 2,
      "outputs": [
        {
          "output_type": "stream",
          "name": "stdout",
          "text": [
            "10\n"
          ]
        }
      ]
    },
    {
      "cell_type": "code",
      "source": [
        "print(type(a))"
      ],
      "metadata": {
        "colab": {
          "base_uri": "https://localhost:8080/"
        },
        "id": "95bE18vONVVY",
        "outputId": "6c3f0a7b-e0d6-415f-fc75-d70a1d855a5f"
      },
      "execution_count": 5,
      "outputs": [
        {
          "output_type": "stream",
          "name": "stdout",
          "text": [
            "<class 'int'>\n"
          ]
        }
      ]
    },
    {
      "cell_type": "code",
      "source": [
        "b='this is string '\n",
        "print(b)"
      ],
      "metadata": {
        "colab": {
          "base_uri": "https://localhost:8080/"
        },
        "id": "VTp7inZsNZWu",
        "outputId": "a71e89d3-67cd-4617-c76c-95ae873cd15a"
      },
      "execution_count": 6,
      "outputs": [
        {
          "output_type": "stream",
          "name": "stdout",
          "text": [
            "this is string \n"
          ]
        }
      ]
    },
    {
      "cell_type": "code",
      "source": [
        "print(type(b))"
      ],
      "metadata": {
        "colab": {
          "base_uri": "https://localhost:8080/"
        },
        "id": "iADhcwDANvqz",
        "outputId": "56a1a017-2f64-467a-fcdf-9dac0fd8e6c8"
      },
      "execution_count": 7,
      "outputs": [
        {
          "output_type": "stream",
          "name": "stdout",
          "text": [
            "<class 'str'>\n"
          ]
        }
      ]
    },
    {
      "cell_type": "code",
      "source": [
        "c=1.22\n",
        "print(c)\n"
      ],
      "metadata": {
        "colab": {
          "base_uri": "https://localhost:8080/"
        },
        "id": "Up9ErE7tNzn3",
        "outputId": "6a92d075-47c8-46e6-e42b-91e2c1f63cb7"
      },
      "execution_count": 8,
      "outputs": [
        {
          "output_type": "stream",
          "name": "stdout",
          "text": [
            "1.22\n"
          ]
        }
      ]
    },
    {
      "cell_type": "code",
      "source": [
        "print(type(c))"
      ],
      "metadata": {
        "colab": {
          "base_uri": "https://localhost:8080/"
        },
        "id": "lxFCOK0aN7D8",
        "outputId": "e1491168-9f34-4e3f-fad4-85d2493856c6"
      },
      "execution_count": 9,
      "outputs": [
        {
          "output_type": "stream",
          "name": "stdout",
          "text": [
            "<class 'float'>\n"
          ]
        }
      ]
    },
    {
      "cell_type": "code",
      "source": [
        "d=True\n",
        "print(d)"
      ],
      "metadata": {
        "colab": {
          "base_uri": "https://localhost:8080/"
        },
        "id": "44cbdbN4OF2O",
        "outputId": "92ae3a11-b1df-4602-a683-2c754086de7f"
      },
      "execution_count": 10,
      "outputs": [
        {
          "output_type": "stream",
          "name": "stdout",
          "text": [
            "True\n"
          ]
        }
      ]
    },
    {
      "cell_type": "code",
      "source": [
        "print(type(d))"
      ],
      "metadata": {
        "colab": {
          "base_uri": "https://localhost:8080/"
        },
        "id": "k2sWaXllOMCL",
        "outputId": "5c8b942a-1e2e-4252-c09c-77e0dce207d0"
      },
      "execution_count": 11,
      "outputs": [
        {
          "output_type": "stream",
          "name": "stdout",
          "text": [
            "<class 'bool'>\n"
          ]
        }
      ]
    },
    {
      "cell_type": "code",
      "source": [],
      "metadata": {
        "id": "GO4VK_HcOzj2"
      },
      "execution_count": null,
      "outputs": []
    }
  ]
}