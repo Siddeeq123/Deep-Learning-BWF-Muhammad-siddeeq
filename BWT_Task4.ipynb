{
  "nbformat": 4,
  "nbformat_minor": 0,
  "metadata": {
    "colab": {
      "provenance": []
    },
    "kernelspec": {
      "name": "python3",
      "display_name": "Python 3"
    },
    "language_info": {
      "name": "python"
    }
  },
  "cells": [
    {
      "cell_type": "markdown",
      "source": [
        "**Creat List**"
      ],
      "metadata": {
        "id": "7zBo_nmPOrNh"
      }
    },
    {
      "cell_type": "code",
      "execution_count": 1,
      "metadata": {
        "colab": {
          "base_uri": "https://localhost:8080/"
        },
        "id": "Q5-uL0a2Wvcd",
        "outputId": "1af7e35f-a8ce-4c65-ef0a-ea1204acb9b2"
      },
      "outputs": [
        {
          "output_type": "stream",
          "name": "stdout",
          "text": [
            "[1, 2, 3, 4, 5]\n"
          ]
        }
      ],
      "source": [
        "List=[1,2,3,4,5]\n",
        "print(List)"
      ]
    },
    {
      "cell_type": "code",
      "source": [
        "List[2]=543\n",
        "print(List)"
      ],
      "metadata": {
        "colab": {
          "base_uri": "https://localhost:8080/"
        },
        "id": "aaTu7YHMbKfb",
        "outputId": "6be7fd28-7c4e-4b9b-fcc2-1f6d27a5add0"
      },
      "execution_count": 2,
      "outputs": [
        {
          "output_type": "stream",
          "name": "stdout",
          "text": [
            "[1, 2, 543, 4, 5]\n"
          ]
        }
      ]
    },
    {
      "cell_type": "markdown",
      "source": [
        "# *adding one value using append function*"
      ],
      "metadata": {
        "id": "u4Tl7oKSO5sO"
      }
    },
    {
      "cell_type": "code",
      "source": [
        "List.append(10)\n",
        "List"
      ],
      "metadata": {
        "colab": {
          "base_uri": "https://localhost:8080/"
        },
        "id": "aff7Xq6RbheB",
        "outputId": "3661dd62-27d7-4617-8833-c54880d5cd49"
      },
      "execution_count": 3,
      "outputs": [
        {
          "output_type": "execute_result",
          "data": {
            "text/plain": [
              "[1, 2, 543, 4, 5, 10]"
            ]
          },
          "metadata": {},
          "execution_count": 3
        }
      ]
    },
    {
      "cell_type": "markdown",
      "source": [
        "#  *Removing value using pop fuction*"
      ],
      "metadata": {
        "id": "OOMZW7hkPHCg"
      }
    },
    {
      "cell_type": "code",
      "source": [
        "List.pop()"
      ],
      "metadata": {
        "colab": {
          "base_uri": "https://localhost:8080/"
        },
        "id": "JZqc93j6dvit",
        "outputId": "23d57562-7b5e-4b15-a417-5b3b88dfd1a4"
      },
      "execution_count": 4,
      "outputs": [
        {
          "output_type": "execute_result",
          "data": {
            "text/plain": [
              "10"
            ]
          },
          "metadata": {},
          "execution_count": 4
        }
      ]
    },
    {
      "cell_type": "code",
      "source": [
        "List.pop(2)"
      ],
      "metadata": {
        "colab": {
          "base_uri": "https://localhost:8080/"
        },
        "id": "vEvYCt6nd0OR",
        "outputId": "b8ea0389-d9da-494d-d92d-d98120a713ef"
      },
      "execution_count": 5,
      "outputs": [
        {
          "output_type": "execute_result",
          "data": {
            "text/plain": [
              "543"
            ]
          },
          "metadata": {},
          "execution_count": 5
        }
      ]
    },
    {
      "cell_type": "markdown",
      "source": [
        "# *Sort array*"
      ],
      "metadata": {
        "id": "iSVJAdUIPbvb"
      }
    },
    {
      "cell_type": "code",
      "source": [
        "List=[2,1,4,90,5]\n",
        "\n",
        "for i in range(len(List)):\n",
        "  for j in range(len(List)-1-i):\n",
        "    if(List[j]>List[j+1]):\n",
        "      List[j], List[j+1]=List[j+1],List[j]\n",
        "      \n",
        "print(List)"
      ],
      "metadata": {
        "colab": {
          "base_uri": "https://localhost:8080/"
        },
        "id": "OdWwMO9_d49r",
        "outputId": "9eddee26-1d2f-42cf-8b99-68eacf75a331"
      },
      "execution_count": 26,
      "outputs": [
        {
          "output_type": "stream",
          "name": "stdout",
          "text": [
            "[1, 2, 4, 5, 90]\n"
          ]
        }
      ]
    },
    {
      "cell_type": "code",
      "source": [
        "List=[4,3,21,1,2,2,5,3,9]\n",
        "count=0\n",
        "for i in  List:\n",
        "  count+=1\n",
        "unique=[]\n",
        "common=[]\n",
        "for ii in List:\n",
        "  if(ii not in unique):\n",
        "    unique.append(ii)\n",
        "    print(\"\")\n",
        "  else:\n",
        "    common.append(ii)\n",
        "print(unique)\n",
        "print(common)\n",
        "\n",
        "  \n"
      ],
      "metadata": {
        "colab": {
          "base_uri": "https://localhost:8080/"
        },
        "id": "eIELa9F2HnrT",
        "outputId": "e9c19ff7-548c-44e7-8688-988c20f85979"
      },
      "execution_count": 16,
      "outputs": [
        {
          "output_type": "stream",
          "name": "stdout",
          "text": [
            "\n",
            "\n",
            "\n",
            "\n",
            "\n",
            "\n",
            "\n",
            "[4, 3, 21, 1, 2, 5, 9]\n",
            "[2, 3]\n"
          ]
        }
      ]
    },
    {
      "cell_type": "code",
      "source": [
        "Lois=[1,2,3,4,5]\n",
        "for i in range(len(Lois)//2):\n",
        "  j =len(Lois)-i-1\n",
        "  Lois[i],Lois[j]=Lois[j],Lois[i]\n",
        "Lois"
      ],
      "metadata": {
        "colab": {
          "base_uri": "https://localhost:8080/"
        },
        "id": "h2gLwD_aMU-O",
        "outputId": "db0d5793-39cc-4dc4-b303-0e68501ba7b5"
      },
      "execution_count": 25,
      "outputs": [
        {
          "output_type": "execute_result",
          "data": {
            "text/plain": [
              "[5, 4, 3, 2, 1]"
            ]
          },
          "metadata": {},
          "execution_count": 25
        }
      ]
    },
    {
      "cell_type": "markdown",
      "source": [
        "# **Crating tupple**"
      ],
      "metadata": {
        "id": "6_ONuFG8Pu-3"
      }
    },
    {
      "cell_type": "code",
      "source": [
        "tup=(1,2,3,4)\n",
        "print(tup)"
      ],
      "metadata": {
        "colab": {
          "base_uri": "https://localhost:8080/"
        },
        "id": "9k0WTQoPefcj",
        "outputId": "c53babcc-9807-42a9-adff-a56c81749f3a"
      },
      "execution_count": 7,
      "outputs": [
        {
          "output_type": "stream",
          "name": "stdout",
          "text": [
            "(1, 2, 3, 4)\n"
          ]
        }
      ]
    },
    {
      "cell_type": "code",
      "source": [
        "tup[0]=2"
      ],
      "metadata": {
        "colab": {
          "base_uri": "https://localhost:8080/",
          "height": 165
        },
        "id": "U3xRUS53HcvD",
        "outputId": "efc7ddfa-c691-4e80-db6d-f67e481c620b"
      },
      "execution_count": 8,
      "outputs": [
        {
          "output_type": "error",
          "ename": "TypeError",
          "evalue": "ignored",
          "traceback": [
            "\u001b[0;31m---------------------------------------------------------------------------\u001b[0m",
            "\u001b[0;31mTypeError\u001b[0m                                 Traceback (most recent call last)",
            "\u001b[0;32m<ipython-input-8-ce0af1c7f030>\u001b[0m in \u001b[0;36m<module>\u001b[0;34m\u001b[0m\n\u001b[0;32m----> 1\u001b[0;31m \u001b[0mtup\u001b[0m\u001b[0;34m[\u001b[0m\u001b[0;36m0\u001b[0m\u001b[0;34m]\u001b[0m\u001b[0;34m=\u001b[0m\u001b[0;36m2\u001b[0m\u001b[0;34m\u001b[0m\u001b[0;34m\u001b[0m\u001b[0m\n\u001b[0m",
            "\u001b[0;31mTypeError\u001b[0m: 'tuple' object does not support item assignment"
          ]
        }
      ]
    },
    {
      "cell_type": "code",
      "source": [],
      "metadata": {
        "id": "RLGg_PImHhtT"
      },
      "execution_count": null,
      "outputs": []
    }
  ]
}